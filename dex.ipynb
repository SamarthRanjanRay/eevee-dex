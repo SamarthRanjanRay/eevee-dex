{
 "cells": [
  {
   "cell_type": "code",
   "execution_count": 1,
   "metadata": {},
   "outputs": [],
   "source": [
    "import pandas as pd\n",
    "import numpy as np\n",
    "import matplotlib.pyplot as plt\n",
    "import cv2"
   ]
  },
  {
   "cell_type": "code",
   "execution_count": 42,
   "metadata": {},
   "outputs": [],
   "source": [
    "def dist(a1,a2):\n",
    "    return np.sum((a1-a2)**2)**.5\n",
    "\n",
    "def KNN(X,Y,test_point,k=11):\n",
    "    m = X.shape[0]\n",
    "    vals = []\n",
    "    for i in range(m):\n",
    "        d = dist(test_point,X[i])\n",
    "        vals.append((d,Y[i]))\n",
    "        \n",
    "    vals = sorted(vals)\n",
    "    vals = np.array(vals[:k])\n",
    "    b = np.unique(vals[:,1],return_counts=True)\n",
    "    idx = np.argmax(b[1])\n",
    "    pred = b[0][idx]\n",
    "    return str(pred)\n",
    "\n",
    "def readImg(img):\n",
    "    r_img = cv2.resize(img,(400,400))\n",
    "    n_img = [0]\n",
    "    for i in range(400):\n",
    "        for j in range(400):\n",
    "            for k in range(3):\n",
    "                n_img.append(r_img[i][j][k])\n",
    "    \n",
    "    return n_img[1:][:]\n",
    "\n",
    "def testStuff():\n",
    "    X = [[0]]\n",
    "    Y = [[0]]\n",
    "    df = pd.read_csv('dex.csv')\n",
    "    data = df.values\n",
    "    a = 0\n",
    "    for i in range(80):\n",
    "        a = data[i:i+1][:]\n",
    "        Y.append(a[0][1])\n",
    "        X.append(readImg(cv2.imread(a[0][0])))\n",
    "\n",
    "    b = input()\n",
    "    t_img = readImg(cv2.imread(b))\n",
    "    pred = KNN(np.array(X[1:][:]),np.array(Y[1:][:]),t_img)\n",
    "    print(pred) "
   ]
  },
  {
   "cell_type": "code",
   "execution_count": null,
   "metadata": {},
   "outputs": [],
   "source": []
  },
  {
   "cell_type": "code",
   "execution_count": 43,
   "metadata": {},
   "outputs": [
    {
     "name": "stdout",
     "output_type": "stream",
     "text": [
      "eet.png\n",
      "Flareon\n"
     ]
    }
   ],
   "source": [
    "testStuff()"
   ]
  },
  {
   "cell_type": "code",
   "execution_count": null,
   "metadata": {},
   "outputs": [],
   "source": []
  }
 ],
 "metadata": {
  "kernelspec": {
   "display_name": "Python 3",
   "language": "python",
   "name": "python3"
  },
  "language_info": {
   "codemirror_mode": {
    "name": "ipython",
    "version": 3
   },
   "file_extension": ".py",
   "mimetype": "text/x-python",
   "name": "python",
   "nbconvert_exporter": "python",
   "pygments_lexer": "ipython3",
   "version": "3.7.3"
  }
 },
 "nbformat": 4,
 "nbformat_minor": 2
}
